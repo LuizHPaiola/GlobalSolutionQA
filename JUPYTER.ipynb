{
 "cells": [
  {
   "cell_type": "code",
   "execution_count": 12,
   "metadata": {},
   "outputs": [
    {
     "name": "stdout",
     "output_type": "stream",
     "text": [
      "   tipo_solo   ph_solo  nutrientes_solo  temperatura  precipitacao  semente\n",
      "0          1  6.593086        27.337392     8.898455     79.842508        0\n",
      "1          2  6.155995        42.323344    24.330881     30.055751        2\n",
      "2          1  5.041169        58.796394     9.162213     60.616956        0\n",
      "3          0  5.234963        84.466126    10.035332     51.153121        1\n",
      "4          1  6.223706        25.579754     6.460723     68.318092        0\n"
     ]
    }
   ],
   "source": [
    "import pandas as pd\n",
    "import numpy as np\n",
    "from sklearn.preprocessing import LabelEncoder\n",
    "\n",
    "# Definir o tamanho do dataset\n",
    "n = 10000\n",
    "\n",
    "# Definir as colunas do dataset\n",
    "columns = ['tipo_solo', 'ph_solo', 'nutrientes_solo', 'temperatura', 'precipitacao', 'semente']\n",
    "\n",
    "# Criar um array vazio para armazenar os dados\n",
    "data = []\n",
    "\n",
    "# Gerar os dados aleatórios com padrão baseado na semente\n",
    "np.random.seed(42)  # Define a semente para reproduzibilidade\n",
    "\n",
    "for _ in range(n):\n",
    "    # Definir o tipo de semente\n",
    "    semente = np.random.choice(['milho', 'soja', 'cevada'])\n",
    "    \n",
    "    # Definir os intervalos para cada coluna com base na semente\n",
    "    if semente == 'milho':\n",
    "        tipo_solo = 'arenoso'\n",
    "        ph_solo = np.random.uniform(4, 6)\n",
    "        nutrientes_solo = np.random.uniform(60, 100)\n",
    "        temperatura = np.random.uniform(10, 15)\n",
    "        precipitacao = np.random.uniform(50, 100)\n",
    "    elif semente == 'soja':\n",
    "        tipo_solo = 'siltoso'\n",
    "        ph_solo = np.random.uniform(6, 7)\n",
    "        nutrientes_solo = np.random.uniform(40, 80)\n",
    "        temperatura = np.random.uniform(20, 25)\n",
    "        precipitacao = np.random.uniform(0, 50)\n",
    "    elif semente == 'cevada':\n",
    "        tipo_solo = 'argiloso'\n",
    "        ph_solo = np.random.uniform(5, 7)\n",
    "        nutrientes_solo = np.random.uniform(20, 60)\n",
    "        temperatura = np.random.uniform(5, 10)\n",
    "        precipitacao = np.random.uniform(50, 100)\n",
    "    \n",
    "    # Adicionar os valores ao array de dados\n",
    "    data.append([tipo_solo, ph_solo, nutrientes_solo, temperatura, precipitacao, semente])\n",
    "\n",
    "# Criar o DataFrame com os dados gerados\n",
    "df = pd.DataFrame(data, columns=columns)\n",
    "\n",
    "# Aplicar a codificação numérica nas colunas categóricas\n",
    "label_encoder = LabelEncoder()\n",
    "df['tipo_solo'] = label_encoder.fit_transform(df['tipo_solo'])\n",
    "df['semente'] = label_encoder.fit_transform(df['semente'])\n",
    "\n",
    "# Exibir o dataset\n",
    "print(df.head())"
   ]
  },
  {
   "cell_type": "code",
   "execution_count": 13,
   "metadata": {},
   "outputs": [
    {
     "name": "stdout",
     "output_type": "stream",
     "text": [
      "Dataset salvo com sucesso!\n"
     ]
    }
   ],
   "source": [
    "df.to_csv('dataset.csv', index=False)\n",
    "print(\"Dataset salvo com sucesso!\")"
   ]
  },
  {
   "cell_type": "code",
   "execution_count": 14,
   "metadata": {},
   "outputs": [
    {
     "name": "stdout",
     "output_type": "stream",
     "text": [
      "   tipo_solo   ph_solo  nutrientes_solo  temperatura  precipitacao  semente\n",
      "0          1  6.593086        27.337392     8.898455     79.842508        0\n",
      "1          2  6.155995        42.323344    24.330881     30.055751        2\n",
      "2          1  5.041169        58.796394     9.162213     60.616956        0\n",
      "3          0  5.234963        84.466126    10.035332     51.153121        1\n",
      "4          1  6.223706        25.579754     6.460723     68.318092        0\n"
     ]
    }
   ],
   "source": [
    "import pandas as pd\n",
    "from sklearn.preprocessing import LabelEncoder\n",
    "\n",
    "# Carregar o dataset\n",
    "df = pd.read_csv('dataset.csv')\n",
    "\n",
    "# Criar uma cópia do DataFrame original para manter os dados originais intactos\n",
    "df_encoded = df.copy()\n",
    "\n",
    "# Converter variáveis categóricas em numéricas usando LabelEncoder\n",
    "label_encoder = LabelEncoder()\n",
    "df_encoded['tipo_solo'] = label_encoder.fit_transform(df['tipo_solo'])\n",
    "df_encoded['semente'] = label_encoder.fit_transform(df['semente'])\n",
    "\n",
    "# Exibir o DataFrame com as variáveis codificadas\n",
    "print(df_encoded.head())"
   ]
  },
  {
   "cell_type": "code",
   "execution_count": 15,
   "metadata": {},
   "outputs": [
    {
     "name": "stdout",
     "output_type": "stream",
     "text": [
      "   nutrientes_solo  temperatura  precipitacao  tipo_solo_0  tipo_solo_1  \\\n",
      "0         0.091684     0.194926      0.798494          0.0          1.0   \n",
      "1         0.279124     0.966570      0.300578          0.0          0.0   \n",
      "2         0.485165     0.208115      0.606220          0.0          1.0   \n",
      "3         0.806235     0.251772      0.511573          1.0          0.0   \n",
      "4         0.069700     0.073036      0.683239          0.0          1.0   \n",
      "\n",
      "   tipo_solo_2  ph_solo_4.001189516085315  ph_solo_4.001497618429743  \\\n",
      "0          0.0                        0.0                        0.0   \n",
      "1          1.0                        0.0                        0.0   \n",
      "2          0.0                        0.0                        0.0   \n",
      "3          0.0                        0.0                        0.0   \n",
      "4          0.0                        0.0                        0.0   \n",
      "\n",
      "   ph_solo_4.002183082045914  ph_solo_4.002327328655957  ...  \\\n",
      "0                        0.0                        0.0  ...   \n",
      "1                        0.0                        0.0  ...   \n",
      "2                        0.0                        0.0  ...   \n",
      "3                        0.0                        0.0  ...   \n",
      "4                        0.0                        0.0  ...   \n",
      "\n",
      "   ph_solo_6.998373130494007  ph_solo_6.998705859740066  \\\n",
      "0                        0.0                        0.0   \n",
      "1                        0.0                        0.0   \n",
      "2                        0.0                        0.0   \n",
      "3                        0.0                        0.0   \n",
      "4                        0.0                        0.0   \n",
      "\n",
      "   ph_solo_6.998837761254735  ph_solo_6.999268685196316  \\\n",
      "0                        0.0                        0.0   \n",
      "1                        0.0                        0.0   \n",
      "2                        0.0                        0.0   \n",
      "3                        0.0                        0.0   \n",
      "4                        0.0                        0.0   \n",
      "\n",
      "   ph_solo_6.99938966274239  ph_solo_6.999503126858089  \\\n",
      "0                       0.0                        0.0   \n",
      "1                       0.0                        0.0   \n",
      "2                       0.0                        0.0   \n",
      "3                       0.0                        0.0   \n",
      "4                       0.0                        0.0   \n",
      "\n",
      "   ph_solo_6.999799368604583  semente_0  semente_1  semente_2  \n",
      "0                        0.0        1.0        0.0        0.0  \n",
      "1                        0.0        0.0        0.0        1.0  \n",
      "2                        0.0        1.0        0.0        0.0  \n",
      "3                        0.0        0.0        1.0        0.0  \n",
      "4                        0.0        1.0        0.0        0.0  \n",
      "\n",
      "[5 rows x 10009 columns]\n"
     ]
    }
   ],
   "source": [
    "import pandas as pd\n",
    "from sklearn.preprocessing import MinMaxScaler, OneHotEncoder\n",
    "\n",
    "# Carregar o dataset a partir do arquivo CSV\n",
    "df = pd.read_csv('dataset.csv')\n",
    "\n",
    "# Aplicar one-hot encoding nas colunas categóricas\n",
    "cat_columns = ['tipo_solo', 'ph_solo', 'semente']\n",
    "df_encoded = pd.get_dummies(df, columns=cat_columns)\n",
    "\n",
    "# Aplicar a normalização em todas as colunas\n",
    "scaler = MinMaxScaler()\n",
    "df_normalized = pd.DataFrame(scaler.fit_transform(df_encoded), columns=df_encoded.columns)\n",
    "\n",
    "# Exibir o dataset normalizado\n",
    "print(df_normalized.head())"
   ]
  },
  {
   "cell_type": "code",
   "execution_count": 21,
   "metadata": {},
   "outputs": [
    {
     "name": "stdout",
     "output_type": "stream",
     "text": [
      "Acurácia do modelo no conjunto de teste: 0.9796666666666667\n"
     ]
    }
   ],
   "source": [
    "import pandas as pd\n",
    "from sklearn.model_selection import train_test_split\n",
    "from sklearn.preprocessing import LabelEncoder, MinMaxScaler\n",
    "from sklearn.neural_network import MLPClassifier\n",
    "from sklearn.metrics import accuracy_score\n",
    "\n",
    "# Carregar o dataset a partir do arquivo CSV\n",
    "df = pd.read_csv('dataset.csv')\n",
    "\n",
    "# Separar as features (X) e o target (y)\n",
    "X = df.drop('semente', axis=1)\n",
    "y = df['semente']\n",
    "\n",
    "# Converter variáveis categóricas em numéricas usando LabelEncoder\n",
    "label_encoder = LabelEncoder()\n",
    "X['tipo_solo'] = label_encoder.fit_transform(X['tipo_solo'])\n",
    "X['ph_solo'] = label_encoder.fit_transform(X['ph_solo'])\n",
    "\n",
    "# Normalizar as variáveis numéricas usando MinMaxScaler\n",
    "scaler = MinMaxScaler()\n",
    "X[['nutrientes_solo', 'temperatura', 'precipitacao']] = scaler.fit_transform(X[['nutrientes_solo', 'temperatura', 'precipitacao']])\n",
    "\n",
    "# Codificar o target (y)\n",
    "y_encoded = label_encoder.fit_transform(y)\n",
    "\n",
    "# Dividir o dataset em conjunto de treinamento e conjunto de teste\n",
    "X_train, X_test, y_train, y_test = train_test_split(X, y_encoded, test_size=0.30, random_state=42)\n",
    "\n",
    "# Construir o modelo de classificação\n",
    "model = MLPClassifier(hidden_layer_sizes=(8, 8), activation='relu', max_iter=10000)\n",
    "\n",
    "# Treinar o modelo\n",
    "model.fit(X_train, y_train)\n",
    "\n",
    "# Fazer previsões no conjunto de teste\n",
    "y_pred = model.predict(X_test)\n",
    "\n",
    "# Calcular a acurácia do modelo\n",
    "accuracy = accuracy_score(y_test, y_pred)\n",
    "print(f\"Acurácia do modelo no conjunto de teste: {accuracy}\")"
   ]
  }
 ],
 "metadata": {
  "kernelspec": {
   "display_name": "base",
   "language": "python",
   "name": "python3"
  },
  "language_info": {
   "codemirror_mode": {
    "name": "ipython",
    "version": 3
   },
   "file_extension": ".py",
   "mimetype": "text/x-python",
   "name": "python",
   "nbconvert_exporter": "python",
   "pygments_lexer": "ipython3",
   "version": "3.10.9"
  },
  "orig_nbformat": 4
 },
 "nbformat": 4,
 "nbformat_minor": 2
}
