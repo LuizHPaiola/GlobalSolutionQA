{
 "cells": [
  {
   "cell_type": "code",
   "execution_count": 12,
   "metadata": {},
   "outputs": [
    {
     "name": "stdout",
     "output_type": "stream",
     "text": [
      "   tipo_solo   ph_solo  nutrientes_solo  temperatura  precipitacao  semente\n",
      "0          1  6.593086        27.337392     8.898455     79.842508        0\n",
      "1          2  6.155995        42.323344    24.330881     30.055751        2\n",
      "2          1  5.041169        58.796394     9.162213     60.616956        0\n",
      "3          0  5.234963        84.466126    10.035332     51.153121        1\n",
      "4          1  6.223706        25.579754     6.460723     68.318092        0\n"
     ]
    }
   ],
   "source": [
    "import pandas as pd\n",
    "import numpy as np\n",
    "from sklearn.preprocessing import LabelEncoder\n",
    "\n",
    "#Gerando dataset\n",
    "n = 10000\n",
    "\n",
    "columns = ['tipo_solo', 'ph_solo', 'nutrientes_solo', 'temperatura', 'precipitacao', 'semente']\n",
    "data = []\n",
    "np.random.seed(42)\n",
    "\n",
    "for _ in range(n):\n",
    "    semente = np.random.choice(['milho', 'soja', 'cevada'])\n",
    "    \n",
    "    #Aqui eu defino um pouco o dataset, para que não haja uma aleatoridade muito grande nos dados, claramente os dados não condizem com a realidade, visto que isso necessita de um estudo enorme por trás\n",
    "    if semente == 'milho':\n",
    "        tipo_solo = 'arenoso'\n",
    "        ph_solo = np.random.uniform(4, 6)\n",
    "        nutrientes_solo = np.random.uniform(60, 100)\n",
    "        temperatura = np.random.uniform(10, 15)\n",
    "        precipitacao = np.random.uniform(50, 100)\n",
    "    elif semente == 'soja':\n",
    "        tipo_solo = 'siltoso'\n",
    "        ph_solo = np.random.uniform(6, 7)\n",
    "        nutrientes_solo = np.random.uniform(40, 80)\n",
    "        temperatura = np.random.uniform(20, 25)\n",
    "        precipitacao = np.random.uniform(0, 50)\n",
    "    elif semente == 'cevada':\n",
    "        tipo_solo = 'argiloso'\n",
    "        ph_solo = np.random.uniform(5, 7)\n",
    "        nutrientes_solo = np.random.uniform(20, 60)\n",
    "        temperatura = np.random.uniform(5, 10)\n",
    "        precipitacao = np.random.uniform(50, 100)\n",
    "    \n",
    "    data.append([tipo_solo, ph_solo, nutrientes_solo, temperatura, precipitacao, semente])\n",
    "\n",
    "df = pd.DataFrame(data, columns=columns)\n",
    "\n",
    "label_encoder = LabelEncoder()\n",
    "df['tipo_solo'] = label_encoder.fit_transform(df['tipo_solo'])\n",
    "df['semente'] = label_encoder.fit_transform(df['semente'])\n",
    "\n",
    "print(df.head())"
   ]
  },
  {
   "cell_type": "code",
   "execution_count": 13,
   "metadata": {},
   "outputs": [
    {
     "name": "stdout",
     "output_type": "stream",
     "text": [
      "Dataset salvo com sucesso!\n"
     ]
    }
   ],
   "source": [
    "df.to_csv('dataset.csv', index=False)\n",
    "print(\"Dataset salvo com sucesso!\")"
   ]
  },
  {
   "cell_type": "code",
   "execution_count": 1,
   "metadata": {},
   "outputs": [
    {
     "name": "stdout",
     "output_type": "stream",
     "text": [
      "   tipo_solo   ph_solo  nutrientes_solo  temperatura  precipitacao  semente\n",
      "0          1  6.593086        27.337392     8.898455     79.842508        0\n",
      "1          2  6.155995        42.323344    24.330881     30.055751        2\n",
      "2          1  5.041169        58.796394     9.162213     60.616956        0\n",
      "3          0  5.234963        84.466126    10.035332     51.153121        1\n",
      "4          1  6.223706        25.579754     6.460723     68.318092        0\n"
     ]
    }
   ],
   "source": [
    "import pandas as pd\n",
    "from sklearn.preprocessing import LabelEncoder\n",
    "\n",
    "\n",
    "df = pd.read_csv('dataset.csv')\n",
    "\n",
    "\n",
    "df_copia = df.copy()\n",
    "\n",
    "\n",
    "label_encoder = LabelEncoder()\n",
    "df_copia['tipo_solo'] = label_encoder.fit_transform(df['tipo_solo'])\n",
    "df_copia['semente'] = label_encoder.fit_transform(df['semente'])\n",
    "\n",
    "print(df_copia.head())"
   ]
  },
  {
   "cell_type": "code",
   "execution_count": 3,
   "metadata": {},
   "outputs": [
    {
     "name": "stdout",
     "output_type": "stream",
     "text": [
      "   nutrientes_solo  temperatura  precipitacao  tipo_solo_0  tipo_solo_1  \\\n",
      "0         0.091684     0.194926      0.798494          0.0          1.0   \n",
      "1         0.279124     0.966570      0.300578          0.0          0.0   \n",
      "2         0.485165     0.208115      0.606220          0.0          1.0   \n",
      "3         0.806235     0.251772      0.511573          1.0          0.0   \n",
      "4         0.069700     0.073036      0.683239          0.0          1.0   \n",
      "\n",
      "   tipo_solo_2  ph_solo_4.001189516085315  ph_solo_4.001497618429743  \\\n",
      "0          0.0                        0.0                        0.0   \n",
      "1          1.0                        0.0                        0.0   \n",
      "2          0.0                        0.0                        0.0   \n",
      "3          0.0                        0.0                        0.0   \n",
      "4          0.0                        0.0                        0.0   \n",
      "\n",
      "   ph_solo_4.002183082045914  ph_solo_4.002327328655957  ...  \\\n",
      "0                        0.0                        0.0  ...   \n",
      "1                        0.0                        0.0  ...   \n",
      "2                        0.0                        0.0  ...   \n",
      "3                        0.0                        0.0  ...   \n",
      "4                        0.0                        0.0  ...   \n",
      "\n",
      "   ph_solo_6.998373130494007  ph_solo_6.998705859740066  \\\n",
      "0                        0.0                        0.0   \n",
      "1                        0.0                        0.0   \n",
      "2                        0.0                        0.0   \n",
      "3                        0.0                        0.0   \n",
      "4                        0.0                        0.0   \n",
      "\n",
      "   ph_solo_6.998837761254735  ph_solo_6.999268685196316  \\\n",
      "0                        0.0                        0.0   \n",
      "1                        0.0                        0.0   \n",
      "2                        0.0                        0.0   \n",
      "3                        0.0                        0.0   \n",
      "4                        0.0                        0.0   \n",
      "\n",
      "   ph_solo_6.99938966274239  ph_solo_6.999503126858089  \\\n",
      "0                       0.0                        0.0   \n",
      "1                       0.0                        0.0   \n",
      "2                       0.0                        0.0   \n",
      "3                       0.0                        0.0   \n",
      "4                       0.0                        0.0   \n",
      "\n",
      "   ph_solo_6.999799368604583  semente_0  semente_1  semente_2  \n",
      "0                        0.0        1.0        0.0        0.0  \n",
      "1                        0.0        0.0        0.0        1.0  \n",
      "2                        0.0        1.0        0.0        0.0  \n",
      "3                        0.0        0.0        1.0        0.0  \n",
      "4                        0.0        1.0        0.0        0.0  \n",
      "\n",
      "[5 rows x 10009 columns]\n"
     ]
    }
   ],
   "source": [
    "import pandas as pd\n",
    "from sklearn.preprocessing import MinMaxScaler, OneHotEncoder\n",
    "\n",
    "df = pd.read_csv('dataset.csv')\n",
    "\n",
    "cat_columns = ['tipo_solo', 'ph_solo', 'semente']\n",
    "df_copia = pd.get_dummies(df, columns=cat_columns)\n",
    "\n",
    "scaler = MinMaxScaler()\n",
    "df_normalizado = pd.DataFrame(scaler.fit_transform(df_copia), columns=df_copia.columns)\n",
    "\n",
    "print(df_normalizado.head())"
   ]
  },
  {
   "cell_type": "code",
   "execution_count": 21,
   "metadata": {},
   "outputs": [
    {
     "name": "stdout",
     "output_type": "stream",
     "text": [
      "Acurácia do modelo no conjunto de teste: 1.0\n"
     ]
    }
   ],
   "source": [
    "import pandas as pd\n",
    "from sklearn.model_selection import train_test_split\n",
    "from sklearn.preprocessing import LabelEncoder, MinMaxScaler\n",
    "from sklearn.neural_network import MLPClassifier\n",
    "from sklearn.metrics import accuracy_score\n",
    "\n",
    "df = pd.read_csv('dataset.csv')\n",
    "\n",
    "X = df.drop('semente', axis=1)\n",
    "y = df['semente']\n",
    "\n",
    "label_encoder = LabelEncoder()\n",
    "X['tipo_solo'] = label_encoder.fit_transform(X['tipo_solo'])\n",
    "X['ph_solo'] = label_encoder.fit_transform(X['ph_solo'])\n",
    "\n",
    "scaler = MinMaxScaler()\n",
    "X[['nutrientes_solo', 'temperatura', 'precipitacao']] = scaler.fit_transform(X[['nutrientes_solo', 'temperatura', 'precipitacao']])\n",
    "\n",
    "y_encoded = label_encoder.fit_transform(y)\n",
    "\n",
    "X_train, X_test, y_train, y_test = train_test_split(X, y_encoded, test_size=0.20, random_state=42)\n",
    "#após testes, esse foi a configuração que rendeu 100%\n",
    "model = MLPClassifier(hidden_layer_sizes=(6,6,6), activation='relu', max_iter=100000, learning_rate_init=0.0001)\n",
    "\n",
    "model.fit(X_train, y_train)\n",
    "\n",
    "y_pred = model.predict(X_test)\n",
    "\n",
    "accuracy = accuracy_score(y_test, y_pred)\n",
    "print(f\"Acurácia do modelo no conjunto de teste: {accuracy}\")"
   ]
  }
 ],
 "metadata": {
  "kernelspec": {
   "display_name": "base",
   "language": "python",
   "name": "python3"
  },
  "language_info": {
   "codemirror_mode": {
    "name": "ipython",
    "version": 3
   },
   "file_extension": ".py",
   "mimetype": "text/x-python",
   "name": "python",
   "nbconvert_exporter": "python",
   "pygments_lexer": "ipython3",
   "version": "3.10.9"
  },
  "orig_nbformat": 4
 },
 "nbformat": 4,
 "nbformat_minor": 2
}
